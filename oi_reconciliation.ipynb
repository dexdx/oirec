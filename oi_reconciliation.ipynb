{
 "cells": [
  {
   "cell_type": "code",
   "execution_count": 1,
   "metadata": {},
   "outputs": [],
   "source": [
    "import os\n",
    "import numpy as np\n",
    "import matplotlib.pyplot as plt\n",
    "import seaborn as sns\n",
    "from datetime import datetime\n",
    "from tqdm import tqdm"
   ]
  },
  {
   "cell_type": "code",
   "execution_count": 2,
   "metadata": {},
   "outputs": [],
   "source": [
    "path = '/Users/jonkqiku/ECHA/FUT'"
   ]
  },
  {
   "cell_type": "code",
   "execution_count": 3,
   "metadata": {},
   "outputs": [],
   "source": [
    "symb = 'ADAUSDT'"
   ]
  },
  {
   "cell_type": "code",
   "execution_count": 4,
   "metadata": {},
   "outputs": [],
   "source": [
    "files = sorted([f for f in os.listdir(os.path.join(path, 'Trades')) if f.split('_')[0] == 'ADAUSDT'])"
   ]
  },
  {
   "cell_type": "code",
   "execution_count": 5,
   "metadata": {},
   "outputs": [],
   "source": [
    "trades = np.empty((0,6))\n",
    "for f in files:\n",
    "    x = np.load(os.path.join(path, 'Trades', f))\n",
    "    trades = np.vstack((trades, x))"
   ]
  },
  {
   "cell_type": "code",
   "execution_count": 6,
   "metadata": {},
   "outputs": [],
   "source": [
    "ids = trades[:,0].astype(int)\n",
    "d = np.diff(ids)\n",
    "b = np.where(d > 1)[0][0]\n",
    "trades = trades[:b+1]\n",
    "ids = trades[:,0].astype(int)"
   ]
  },
  {
   "cell_type": "code",
   "execution_count": 7,
   "metadata": {},
   "outputs": [
    {
     "data": {
      "text/plain": [
       "13"
      ]
     },
     "execution_count": 7,
     "metadata": {},
     "output_type": "execute_result"
    }
   ],
   "source": [
    "len(str(int(trades[0,4])))"
   ]
  },
  {
   "cell_type": "code",
   "execution_count": 8,
   "metadata": {},
   "outputs": [],
   "source": [
    "t0 = int(trades[0,4])\n",
    "t1 = int(trades[-1,4])"
   ]
  },
  {
   "cell_type": "code",
   "execution_count": 9,
   "metadata": {},
   "outputs": [],
   "source": [
    "files = sorted([f for f in os.listdir(os.path.join(path, 'OIS')) if f.split('_')[0] == 'ADAUSDT'])"
   ]
  },
  {
   "cell_type": "code",
   "execution_count": 10,
   "metadata": {},
   "outputs": [],
   "source": [
    "files_t = [int(f.split('_')[1][:-4]) for f in files]"
   ]
  },
  {
   "cell_type": "code",
   "execution_count": 11,
   "metadata": {},
   "outputs": [],
   "source": [
    "a = 0\n",
    "while files_t[a] < t0:\n",
    "    a += 1\n",
    "a = a - 1"
   ]
  },
  {
   "cell_type": "code",
   "execution_count": 12,
   "metadata": {},
   "outputs": [],
   "source": [
    "b = 0\n",
    "while files_t[b] < t1:\n",
    "    b += 1"
   ]
  },
  {
   "cell_type": "code",
   "execution_count": 13,
   "metadata": {},
   "outputs": [],
   "source": [
    "files = files[a:b+1]"
   ]
  },
  {
   "cell_type": "code",
   "execution_count": 14,
   "metadata": {},
   "outputs": [],
   "source": [
    "ois = np.empty((0,4))\n",
    "for f in files:\n",
    "    x = np.load(os.path.join(path, 'OIS', f))\n",
    "    ois = np.vstack((ois, x))"
   ]
  },
  {
   "cell_type": "code",
   "execution_count": 15,
   "metadata": {},
   "outputs": [],
   "source": [
    "us = np.unique(ids)"
   ]
  },
  {
   "cell_type": "code",
   "execution_count": 16,
   "metadata": {},
   "outputs": [],
   "source": [
    "unidx = [np.where(ids == u)[0][0] for u in us]"
   ]
  },
  {
   "cell_type": "code",
   "execution_count": 17,
   "metadata": {},
   "outputs": [],
   "source": [
    "trades = trades[unidx]"
   ]
  },
  {
   "cell_type": "code",
   "execution_count": 18,
   "metadata": {},
   "outputs": [],
   "source": [
    "ids = ids[unidx]"
   ]
  },
  {
   "cell_type": "code",
   "execution_count": 19,
   "metadata": {},
   "outputs": [
    {
     "data": {
      "text/plain": [
       "True"
      ]
     },
     "execution_count": 19,
     "metadata": {},
     "output_type": "execute_result"
    }
   ],
   "source": [
    "all(i <= j for i,j in zip(trades[:,4], trades[1:,4]))"
   ]
  },
  {
   "cell_type": "code",
   "execution_count": 20,
   "metadata": {},
   "outputs": [
    {
     "data": {
      "text/plain": [
       "[<matplotlib.lines.Line2D at 0x17f9a2790>]"
      ]
     },
     "execution_count": 20,
     "metadata": {},
     "output_type": "execute_result"
    },
    {
     "data": {
      "image/png": "[encoded data removed]",
      "text/plain": [
       "<Figure size 640x480 with 1 Axes>"
      ]
     },
     "metadata": {},
     "output_type": "display_data"
    }
   ],
   "source": [
    "plt.plot(trades[:,4])\n",
    "plt.plot(ois[:,0])"
   ]
  },
  {
   "cell_type": "code",
   "execution_count": 21,
   "metadata": {},
   "outputs": [],
   "source": [
    "t0 = int(trades[0,4])\n",
    "t1 = int(trades[-1,4])"
   ]
  },
  {
   "cell_type": "code",
   "execution_count": 22,
   "metadata": {},
   "outputs": [],
   "source": [
    "a = 0\n",
    "while ois[a,0] < t0:\n",
    "    a += 1\n",
    "a = a - 1"
   ]
  },
  {
   "cell_type": "code",
   "execution_count": 23,
   "metadata": {},
   "outputs": [],
   "source": [
    "b = 0\n",
    "while ois[b,0] < t1:\n",
    "    b += 1"
   ]
  },
  {
   "cell_type": "code",
   "execution_count": 24,
   "metadata": {},
   "outputs": [],
   "source": [
    "ois = ois[a:b+1]"
   ]
  },
  {
   "cell_type": "code",
   "execution_count": 25,
   "metadata": {},
   "outputs": [
    {
     "data": {
      "image/png": "[encoded data removed]",
      "text/plain": [
       "<Figure size 640x480 with 1 Axes>"
      ]
     },
     "metadata": {},
     "output_type": "display_data"
    }
   ],
   "source": [
    "plt.plot(trades[:,4])\n",
    "plt.plot(ois[:,0]);"
   ]
  },
  {
   "cell_type": "code",
   "execution_count": 26,
   "metadata": {},
   "outputs": [
    {
     "data": {
      "text/plain": [
       "True"
      ]
     },
     "execution_count": 26,
     "metadata": {},
     "output_type": "execute_result"
    }
   ],
   "source": [
    "ois[0,0] < trades[0,4]"
   ]
  },
  {
   "cell_type": "code",
   "execution_count": 27,
   "metadata": {},
   "outputs": [
    {
     "data": {
      "text/plain": [
       "True"
      ]
     },
     "execution_count": 27,
     "metadata": {},
     "output_type": "execute_result"
    }
   ],
   "source": [
    "ois[-1,0] > trades[-1,4]"
   ]
  },
  {
   "cell_type": "code",
   "execution_count": null,
   "metadata": {},
   "outputs": [],
   "source": []
  },
  {
   "cell_type": "code",
   "execution_count": 28,
   "metadata": {},
   "outputs": [],
   "source": [
    "us = np.unique(ois[:,0])"
   ]
  },
  {
   "cell_type": "code",
   "execution_count": 29,
   "metadata": {},
   "outputs": [],
   "source": [
    "unidx = [np.where(ois[:,0] == u)[0][0] for u in us]"
   ]
  },
  {
   "cell_type": "code",
   "execution_count": 30,
   "metadata": {},
   "outputs": [],
   "source": [
    "ois = ois[unidx]"
   ]
  },
  {
   "cell_type": "code",
   "execution_count": null,
   "metadata": {},
   "outputs": [],
   "source": []
  },
  {
   "cell_type": "code",
   "execution_count": 31,
   "metadata": {},
   "outputs": [],
   "source": [
    "times_t = trades[:,4]\n",
    "times_o = ois[:,0]"
   ]
  },
  {
   "cell_type": "code",
   "execution_count": 32,
   "metadata": {},
   "outputs": [],
   "source": [
    "intervals_o = [(times_o[i-1], times_o[i]) for i in range(1,len(times_o))]"
   ]
  },
  {
   "cell_type": "code",
   "execution_count": 33,
   "metadata": {},
   "outputs": [],
   "source": [
    "trades_idxs = []\n",
    "i = 0\n",
    "for it in intervals_o:\n",
    "    idxs = []\n",
    "    while i < len(times_t) and times_t[i] > it[0] and times_t[i] <= it[1]:\n",
    "        idxs.append(i)\n",
    "        i += 1\n",
    "    trades_idxs.append(idxs) "
   ]
  },
  {
   "cell_type": "code",
   "execution_count": 34,
   "metadata": {},
   "outputs": [],
   "source": [
    "inter_lens = np.array([len(idxs) for idxs in trades_idxs])"
   ]
  },
  {
   "cell_type": "code",
   "execution_count": 35,
   "metadata": {},
   "outputs": [
    {
     "data": {
      "text/plain": [
       "array([   0,    4,    6, ..., 2788, 2789, 2790])"
      ]
     },
     "execution_count": 35,
     "metadata": {},
     "output_type": "execute_result"
    }
   ],
   "source": [
    "np.where(inter_lens > 15)[0]"
   ]
  },
  {
   "cell_type": "code",
   "execution_count": 36,
   "metadata": {},
   "outputs": [],
   "source": [
    "tra = trades[trades_idxs[0]]"
   ]
  },
  {
   "cell_type": "code",
   "execution_count": 37,
   "metadata": {},
   "outputs": [],
   "source": [
    "ps = tra[:,1]"
   ]
  },
  {
   "cell_type": "code",
   "execution_count": 38,
   "metadata": {},
   "outputs": [],
   "source": [
    "qs = tra[:,2]"
   ]
  },
  {
   "cell_type": "code",
   "execution_count": 39,
   "metadata": {},
   "outputs": [],
   "source": [
    "ts = tra[:,4]"
   ]
  },
  {
   "cell_type": "code",
   "execution_count": 40,
   "metadata": {},
   "outputs": [
    {
     "data": {
      "text/plain": [
       "array([0.6064, 0.6065, 0.6066])"
      ]
     },
     "execution_count": 40,
     "metadata": {},
     "output_type": "execute_result"
    }
   ],
   "source": [
    "np.unique(ps)"
   ]
  },
  {
   "cell_type": "code",
   "execution_count": null,
   "metadata": {},
   "outputs": [],
   "source": []
  },
  {
   "cell_type": "code",
   "execution_count": 41,
   "metadata": {},
   "outputs": [],
   "source": [
    "dois = np.diff(ois[:,1])"
   ]
  },
  {
   "cell_type": "code",
   "execution_count": 42,
   "metadata": {},
   "outputs": [],
   "source": [
    "combinations = {}\n",
    "path = '/Users/jonkqiku/Documents/Projects/Combinations/int'\n",
    "for i in range(1,16):\n",
    "    name = 'cwr_' + str(i) + '.npy'\n",
    "    combinations[i] = np.load(os.path.join(path, name))"
   ]
  },
  {
   "cell_type": "code",
   "execution_count": null,
   "metadata": {},
   "outputs": [],
   "source": []
  },
  {
   "cell_type": "code",
   "execution_count": 43,
   "metadata": {},
   "outputs": [],
   "source": [
    "small_idxs = np.where(inter_lens <= 15)[0]"
   ]
  },
  {
   "cell_type": "code",
   "execution_count": 44,
   "metadata": {},
   "outputs": [
    {
     "name": "stderr",
     "output_type": "stream",
     "text": [
      "  0%|          | 0/1570 [00:00<?, ?it/s]"
     ]
    },
    {
     "name": "stderr",
     "output_type": "stream",
     "text": [
      "100%|██████████| 1570/1570 [01:26<00:00, 18.24it/s]\n"
     ]
    }
   ],
   "source": [
    "match_combi = {}\n",
    "mins = []\n",
    "for i in tqdm(small_idxs):\n",
    "    doi = dois[i]\n",
    "    tra = trades[trades_idxs[i]]\n",
    "    qs = tra[:,2]\n",
    "    if len(qs) > 0:\n",
    "        v = np.matmul(combinations[len(qs)], qs)\n",
    "        d = abs(v - doi)\n",
    "        j = np.where(d == min(d))[0]\n",
    "        match_combi[i] = combinations[len(qs)][j]"
   ]
  },
  {
   "cell_type": "code",
   "execution_count": null,
   "metadata": {},
   "outputs": [],
   "source": []
  },
  {
   "cell_type": "code",
   "execution_count": 45,
   "metadata": {},
   "outputs": [],
   "source": [
    "mins = np.empty(len(match_combi))\n",
    "frac = np.empty(len(match_combi))\n",
    "match_mins = {}\n",
    "for i,j in enumerate(match_combi.keys()):\n",
    "    v = match_combi[j][0].dot(trades[trades_idxs[j]][:,2])\n",
    "    mins[i] = abs(dois[j] - v)\n",
    "    match_mins[j] = abs(dois[j] - v)\n",
    "    if dois[j] > 0:\n",
    "        frac[i] = abs(dois[j]-v)/abs(dois[j])\n",
    "    else:\n",
    "        frac[i] = 0"
   ]
  },
  {
   "cell_type": "code",
   "execution_count": 46,
   "metadata": {},
   "outputs": [],
   "source": [
    "n_combi = np.array([len(match_combi[k]) for k in match_combi.keys()])"
   ]
  },
  {
   "cell_type": "code",
   "execution_count": 47,
   "metadata": {},
   "outputs": [],
   "source": [
    "match_lens = {k: len(match_combi[k]) for k in match_combi.keys()}"
   ]
  },
  {
   "cell_type": "code",
   "execution_count": 48,
   "metadata": {},
   "outputs": [
    {
     "data": {
      "text/plain": [
       "0.270586737223745"
      ]
     },
     "execution_count": 48,
     "metadata": {},
     "output_type": "execute_result"
    }
   ],
   "source": [
    "(inter_lens <= 15).mean() * (n_combi == 1).mean() * (mins == 0).mean()"
   ]
  },
  {
   "cell_type": "code",
   "execution_count": 49,
   "metadata": {},
   "outputs": [],
   "source": [
    "a = np.array(list(match_lens.values())) == 1\n",
    "b = np.array(list(match_mins.values())) == 0\n",
    "c = np.array([i and j for i,j in zip(a,b)])"
   ]
  },
  {
   "cell_type": "code",
   "execution_count": null,
   "metadata": {},
   "outputs": [],
   "source": []
  },
  {
   "cell_type": "code",
   "execution_count": 50,
   "metadata": {},
   "outputs": [],
   "source": [
    "rec_trades = np.empty((0,8))\n",
    "for i in match_combi.keys():\n",
    "    if match_lens[i] == 1 and match_mins[i] == 0:\n",
    "        idxs = np.array(trades_idxs[i]).reshape(-1,1)\n",
    "        I = match_combi[i].reshape(-1,1)\n",
    "        tras = trades[trades_idxs[i]]\n",
    "        rec = np.hstack((tras, idxs, I))\n",
    "        rec_trades = np.vstack((rec_trades, rec))"
   ]
  },
  {
   "cell_type": "code",
   "execution_count": 51,
   "metadata": {},
   "outputs": [
    {
     "data": {
      "text/plain": [
       "0.0405012267788293"
      ]
     },
     "execution_count": 51,
     "metadata": {},
     "output_type": "execute_result"
    }
   ],
   "source": [
    "len(rec_trades) / len(trades)"
   ]
  },
  {
   "cell_type": "code",
   "execution_count": 52,
   "metadata": {},
   "outputs": [
    {
     "data": {
      "text/plain": [
       "array([[ 1.01989663e+09,  6.06400000e-01,  2.06000000e+02, ...,\n",
       "         0.00000000e+00,  4.60000000e+01, -1.00000000e+00],\n",
       "       [ 1.01989663e+09,  6.06400000e-01,  9.00000000e+00, ...,\n",
       "         0.00000000e+00,  4.70000000e+01, -1.00000000e+00],\n",
       "       [ 1.01989670e+09,  6.06300000e-01,  7.44000000e+02, ...,\n",
       "         0.00000000e+00,  1.14000000e+02,  1.00000000e+00],\n",
       "       ...,\n",
       "       [ 1.01995228e+09,  6.04300000e-01,  3.30000000e+02, ...,\n",
       "         0.00000000e+00,  5.57010000e+04,  1.00000000e+00],\n",
       "       [ 1.01995229e+09,  6.04300000e-01,  1.90000000e+01, ...,\n",
       "         0.00000000e+00,  5.57020000e+04,  1.00000000e+00],\n",
       "       [ 1.01995229e+09,  6.04200000e-01,  4.20000000e+01, ...,\n",
       "         1.00000000e+00,  5.57030000e+04,  1.00000000e+00]])"
      ]
     },
     "execution_count": 52,
     "metadata": {},
     "output_type": "execute_result"
    }
   ],
   "source": [
    "rec_trades"
   ]
  },
  {
   "cell_type": "code",
   "execution_count": null,
   "metadata": {},
   "outputs": [],
   "source": []
  },
  {
   "cell_type": "code",
   "execution_count": null,
   "metadata": {},
   "outputs": [],
   "source": []
  },
  {
   "cell_type": "code",
   "execution_count": 63,
   "metadata": {},
   "outputs": [
    {
     "data": {
      "text/plain": [
       "array([ 41875.,   -215.,   2503., ..., -25223., -20615., 105895.])"
      ]
     },
     "execution_count": 63,
     "metadata": {},
     "output_type": "execute_result"
    }
   ],
   "source": [
    "dois"
   ]
  },
  {
   "cell_type": "code",
   "execution_count": 66,
   "metadata": {},
   "outputs": [
    {
     "data": {
      "text/plain": [
       "[<matplotlib.lines.Line2D at 0x35591e6d0>]"
      ]
     },
     "execution_count": 66,
     "metadata": {},
     "output_type": "execute_result"
    },
    {
     "data": {
      "image/png": "[encoded data removed]",
      "text/plain": [
       "<Figure size 640x480 with 1 Axes>"
      ]
     },
     "metadata": {},
     "output_type": "display_data"
    }
   ],
   "source": [
    "plt.plot(rec_trades[:,4], rec_trades[:,2], lw=.1, marker='.', markersize=1)"
   ]
  },
  {
   "cell_type": "code",
   "execution_count": null,
   "metadata": {},
   "outputs": [],
   "source": []
  },
  {
   "cell_type": "code",
   "execution_count": null,
   "metadata": {},
   "outputs": [],
   "source": []
  }
 ],
 "metadata": {
  "kernelspec": {
   "display_name": "Python 3",
   "language": "python",
   "name": "python3"
  },
  "language_info": {
   "codemirror_mode": {
    "name": "ipython",
    "version": 3
   },
   "file_extension": ".py",
   "mimetype": "text/x-python",
   "name": "python",
   "nbconvert_exporter": "python",
   "pygments_lexer": "ipython3",
   "version": "3.11.1"
  }
 },
 "nbformat": 4,
 "nbformat_minor": 2
}
